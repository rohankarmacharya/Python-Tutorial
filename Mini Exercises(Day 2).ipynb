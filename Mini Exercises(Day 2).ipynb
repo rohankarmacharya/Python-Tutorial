{
 "cells": [
  {
   "cell_type": "code",
   "execution_count": 1,
   "id": "b0cc46bd-2c55-47ed-af74-698c294968a8",
   "metadata": {},
   "outputs": [
    {
     "name": "stdin",
     "output_type": "stream",
     "text": [
      "Enter your marks (0-100): 90\n"
     ]
    },
    {
     "name": "stdout",
     "output_type": "stream",
     "text": [
      "Grade:A\n"
     ]
    }
   ],
   "source": [
    "'''\n",
    "Exercise 1: Grade Checker\n",
    "Ask the user for marks (0–100).\n",
    "If marks ≥ 90 → \"Grade: A\"\n",
    "Else if marks ≥ 75 → \"Grade: B\"\n",
    "Else if marks ≥ 50 → \"Grade: C\"\n",
    "Else → \"Grade: Fail\"\n",
    "\n",
    "👉 Hint: Use nested if inside one big if/elif ladder.\n",
    "'''\n",
    "\n",
    "marks = int(input(\"Enter your marks (0-100):\"))\n",
    "\n",
    "if marks >=90:\n",
    "    print(\"Grade:A\")\n",
    "elif marks >=75:\n",
    "    print(\"Grade: B\")\n",
    "elif marks >=50:\n",
    "    print(\"Grade:C\")\n",
    "else:\n",
    "    print(\"Grade: Fail\")\n"
   ]
  },
  {
   "cell_type": "code",
   "execution_count": 5,
   "id": "b1f7a9dd-8e54-4989-8013-383ec0d822b1",
   "metadata": {},
   "outputs": [
    {
     "name": "stdin",
     "output_type": "stream",
     "text": [
      "Enter a number: 7\n"
     ]
    },
    {
     "name": "stdout",
     "output_type": "stream",
     "text": [
      "Odd and not divisible by 5\n"
     ]
    }
   ],
   "source": [
    "'''\n",
    "Exercise 2: Even or Odd + Divisible by 5\n",
    "Ask for a number.\n",
    "First check if it’s even or odd.\n",
    "Inside that check, also verify if it’s divisible by 5.\n",
    "\n",
    "Example:\n",
    "Input: 10 → \"Even and divisible by 5\"\n",
    "Input: 7 → \"Odd and not divisible by 5\"\n",
    "'''\n",
    "\n",
    "number = int(input(\"Enter a number:\"))\n",
    "\n",
    "if number%2 == 0:\n",
    "    if number %5 == 0:\n",
    "        print(\"Even and divisible by 5\")\n",
    "else:\n",
    "    print(\"Odd and not divisible by 5\")"
   ]
  },
  {
   "cell_type": "code",
   "execution_count": 11,
   "id": "ccbd5c3a-68c8-489b-b8b0-2aed6d9c60ab",
   "metadata": {},
   "outputs": [
    {
     "name": "stdin",
     "output_type": "stream",
     "text": [
      "Enter username: admin\n",
      "Enter password: 1234\n"
     ]
    },
    {
     "name": "stdout",
     "output_type": "stream",
     "text": [
      "Login successful\n"
     ]
    }
   ],
   "source": [
    "'''\n",
    "Exercise 3: Login System\n",
    "Ask for username and password.\n",
    "If username is \"admin\"\n",
    "Then check if password is \"1234\".\n",
    "If yes → \"Login successful!\"\n",
    "Else → \"Wrong password.\"\n",
    "Else → \"No such user.\"\n",
    "'''\n",
    "\n",
    "username = input(\"Enter username:\")\n",
    "password = input(\"Enter password:\")\n",
    "if username == \"admin\":\n",
    "    if password == \"1234\":\n",
    "        print(\"Login successful\")\n",
    "    else:\n",
    "        print(\"Wrong password\")\n",
    "else:\n",
    "    print(\"No such user\")\n",
    "    \n",
    "    "
   ]
  },
  {
   "cell_type": "code",
   "execution_count": 23,
   "id": "d3ad84a9-d1ef-424c-9b9d-aea49fe65545",
   "metadata": {},
   "outputs": [
    {
     "name": "stdin",
     "output_type": "stream",
     "text": [
      "Enter a PIN code: 1234\n"
     ]
    },
    {
     "name": "stdout",
     "output_type": "stream",
     "text": [
      "1. Check balance\n",
      "2. Withdraw amount\n",
      "3. Deposit amount\n"
     ]
    },
    {
     "name": "stdin",
     "output_type": "stream",
     "text": [
      "Enter choice: 3\n",
      "Enter amount to deposit: 500\n"
     ]
    },
    {
     "name": "stdout",
     "output_type": "stream",
     "text": [
      "Deposit successful! Your new balance is: $1500.0\n"
     ]
    }
   ],
   "source": [
    "'''\n",
    "Challenge 1: ATM Machine Simulation\n",
    "\n",
    "Write a program that simulates a simple ATM.\n",
    "The correct PIN is 1234.\n",
    "Ask the user to enter a PIN.\n",
    "If PIN is correct → show a menu:\n",
    "Check Balance\n",
    "Withdraw Money\n",
    "Deposit Money\n",
    "If PIN is wrong → show \"Incorrect PIN. Try again.\"\n",
    "\n",
    "👉 Extra rules:\n",
    "\n",
    "Start with balance = 1000.\n",
    "For withdraw: if amount > balance → \"Insufficient funds\".\n",
    "For deposit: just add to balance.\n",
    "Always print the updated balance after any transaction.\n",
    "Hint: Use if for PIN check, then nested if/elif for the menu.\n",
    "'''\n",
    "\n",
    "balance = 1000\n",
    "PIN = input(\"Enter a PIN code:\")\n",
    "if PIN == \"1234\":\n",
    "    print(\"1. Check balance\")\n",
    "    print(\"2. Withdraw amount\")\n",
    "    print(\"3. Deposit amount\")\n",
    "    choice = int(input(\"Enter choice:\"))\n",
    "\n",
    "    if choice == 1:\n",
    "        print(f\"Your balance is: ${balance}\")\n",
    "    elif choice == 2:\n",
    "        withdraw_amount = float(input(\"Enter amount to withdraw:\"))\n",
    "        if withdraw_amount <= balance:\n",
    "            balance -= withdraw_amount\n",
    "            print(f\"Withdrawal successful! Your new balance is: ${balance}\")\n",
    "        else:\n",
    "            print(\"Insufficient balance!\")\n",
    "    elif choice == 3:\n",
    "        deposit_amount = float(input(\"Enter amount to deposit:\"))\n",
    "        balance += deposit_amount\n",
    "        print(f\"Deposit successful! Your new balance is: ${balance}\")\n",
    "    else:\n",
    "        print(\"Invalid choice. Please try again.\")\n",
    "else:\n",
    "    print(\"Incorrect PIN. Try again.\")"
   ]
  },
  {
   "cell_type": "code",
   "execution_count": 25,
   "id": "657dcbc6-21a1-4f9b-b047-3414cdb9dcba",
   "metadata": {},
   "outputs": [
    {
     "name": "stdin",
     "output_type": "stream",
     "text": [
      "Enter your PIN:  1111\n"
     ]
    },
    {
     "name": "stdout",
     "output_type": "stream",
     "text": [
      "Incorrect PIN. Attempts left: 2\n"
     ]
    },
    {
     "name": "stdin",
     "output_type": "stream",
     "text": [
      "Enter your PIN:  1144\n"
     ]
    },
    {
     "name": "stdout",
     "output_type": "stream",
     "text": [
      "Incorrect PIN. Attempts left: 1\n"
     ]
    },
    {
     "name": "stdin",
     "output_type": "stream",
     "text": [
      "Enter your PIN:  1452\n"
     ]
    },
    {
     "name": "stdout",
     "output_type": "stream",
     "text": [
      "Incorrect PIN. Attempts left: 0\n",
      "Too many failed attempts. Your card is blocked!\n"
     ]
    }
   ],
   "source": [
    "'''\n",
    "Challenge 2: ATM Machine Simulation (Advanced)\n",
    "\n",
    "Write a program that simulates a simple ATM machine.\n",
    "\n",
    "Requirements:\n",
    "The correct PIN is 1234.\n",
    "Ask the user to enter a PIN.\n",
    "If the PIN is wrong → show \"Incorrect PIN. Try again.\"\n",
    "Give the user only 3 attempts before the program exits.\n",
    "\n",
    "If the PIN is correct → show a menu with options:\n",
    "1. Check Balance\n",
    "2. Withdraw Money\n",
    "3. Deposit Money\n",
    "4. Exit\n",
    "\n",
    "Rules:\n",
    "Start with balance = 1000.\n",
    "For withdraw: if amount > balance → print \"Insufficient funds\".\n",
    "For deposit: just add to balance.\n",
    "Always print the updated balance after any transaction.\n",
    "\n",
    "Keep showing the menu until the user chooses Exit.\n",
    "'''\n",
    "\n",
    "balance = 1000\n",
    "correct_pin = \"1234\"\n",
    "attempts = 3\n",
    "\n",
    "while attempts > 0:\n",
    "    pin = input(\"Enter your PIN: \")\n",
    "    if pin == correct_pin:\n",
    "        print(\"Login successful!\\n\")\n",
    "        \n",
    "        while True:\n",
    "            print(\"\\n--- ATM Menu ---\")\n",
    "            print(\"1. Check Balance\")\n",
    "            print(\"2. Withdraw Money\")\n",
    "            print(\"3. Deposit Money\")\n",
    "            print(\"4. Exit\")\n",
    "            \n",
    "            choice = input(\"Enter your choice: \")\n",
    "            \n",
    "            if choice == \"1\":\n",
    "                print(f\"Your balance is: ${balance}\")\n",
    "            \n",
    "            elif choice == \"2\":\n",
    "                withdraw_amount = float(input(\"Enter amount to withdraw: \"))\n",
    "                if withdraw_amount <= balance:\n",
    "                    balance -= withdraw_amount\n",
    "                    print(f\"Withdrawal successful! New balance: ${balance}\")\n",
    "                else:\n",
    "                    print(\"Insufficient funds!\")\n",
    "            \n",
    "            elif choice == \"3\":\n",
    "                deposit_amount = float(input(\"Enter amount to deposit: \"))\n",
    "                balance += deposit_amount\n",
    "                print(f\"Deposit successful! New balance: ${balance}\")\n",
    "            \n",
    "            elif choice == \"4\":\n",
    "                print(\"Thank you for using the ATM. Goodbye!\")\n",
    "                break  \n",
    "            \n",
    "            else:\n",
    "                print(\"Invalid choice. Please try again.\")\n",
    "        \n",
    "        break  \n",
    "    \n",
    "    else:\n",
    "        attempts -= 1\n",
    "        print(f\"Incorrect PIN. Attempts left: {attempts}\")\n",
    "\n",
    "        if attempts == 0:\n",
    "            print(\"Too many failed attempts. Your card is blocked!\")\n"
   ]
  },
  {
   "cell_type": "code",
   "execution_count": null,
   "id": "abc5f234-864f-4824-8f9a-cbc0f744db4f",
   "metadata": {},
   "outputs": [],
   "source": []
  }
 ],
 "metadata": {
  "kernelspec": {
   "display_name": "Python [conda env:base] *",
   "language": "python",
   "name": "conda-base-py"
  },
  "language_info": {
   "codemirror_mode": {
    "name": "ipython",
    "version": 3
   },
   "file_extension": ".py",
   "mimetype": "text/x-python",
   "name": "python",
   "nbconvert_exporter": "python",
   "pygments_lexer": "ipython3",
   "version": "3.12.7"
  }
 },
 "nbformat": 4,
 "nbformat_minor": 5
}
