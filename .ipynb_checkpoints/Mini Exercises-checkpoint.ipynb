{
 "cells": [
  {
   "cell_type": "code",
   "execution_count": 7,
   "id": "ff7d0726-8027-498f-acaf-f7e3d9526c9b",
   "metadata": {},
   "outputs": [
    {
     "name": "stdin",
     "output_type": "stream",
     "text": [
      "Enter your name: Rohan\n",
      "Enter your age: 23\n"
     ]
    },
    {
     "name": "stdout",
     "output_type": "stream",
     "text": [
      "Hello Rohan, you will be 25 in 2 years!\n"
     ]
    },
    {
     "name": "stdin",
     "output_type": "stream",
     "text": [
      "Enter your name: Rohan\n",
      "Enter your age: 23\n",
      "How many years to look ahead? 5\n"
     ]
    },
    {
     "name": "stdout",
     "output_type": "stream",
     "text": [
      "Hello Rohan, you will be 28 in  5 years!\n"
     ]
    }
   ],
   "source": [
    "# 1. Write a program that asks for your name and age, then prints:\n",
    "\n",
    "name = input(\"Enter your name:\")\n",
    "age = int(input(\"Enter your age:\"))\n",
    "\n",
    "print(f\"Hello {name}, you will be {age+2} in 2 years!\")\n",
    "\n",
    "#tweak\n",
    "name = input(\"Enter your name:\")\n",
    "age = int(input(\"Enter your age:\"))\n",
    "years_ahead =  int(input(\"How many years to look ahead?\"))\n",
    "future_age = age+years_ahead\n",
    "print(f\"Hello {name}, you will be {future_age} in  {years_ahead} years!\")\n",
    "          "
   ]
  },
  {
   "cell_type": "code",
   "execution_count": 12,
   "id": "648b295c-bf23-4785-a32e-5578524c2b3e",
   "metadata": {},
   "outputs": [
    {
     "name": "stdin",
     "output_type": "stream",
     "text": [
      "Enter a first number: 2\n",
      "Enter a second number: 0\n"
     ]
    },
    {
     "name": "stdout",
     "output_type": "stream",
     "text": [
      "Sum: 2\n",
      "Difference: 2\n",
      "Product: 0\n",
      "Cannot divide by zero\n"
     ]
    }
   ],
   "source": [
    "# 2. Write a program that asks for two numbers and prints their:Sum, Difference, Product, Quotient (division)\n",
    "\n",
    "a = int(input(\"Enter a first number:\"))\n",
    "b = int(input(\"Enter a second number:\"))\n",
    "print(f\"Sum: {a+b}\")\n",
    "print(f\"Difference: {a-b}\")\n",
    "print(f\"Product: {a*b}\")\n",
    "\n",
    "if b!=0:\n",
    "    print(f\"Quotient: {a/b}\")\n",
    "    print(f\"Floor Division: {a//b}\")\n",
    "    print(f\"Remainder: {a%b}\")\n",
    "else:\n",
    "    print(\"Cannot divide by zero\")"
   ]
  },
  {
   "cell_type": "code",
   "execution_count": 19,
   "id": "176461bd-db97-4fcf-9eef-e48aded02305",
   "metadata": {},
   "outputs": [
    {
     "name": "stdin",
     "output_type": "stream",
     "text": [
      "Enter a degree in celsius: 36.6\n"
     ]
    },
    {
     "name": "stdout",
     "output_type": "stream",
     "text": [
      "36.6°C is equal to 97.88°F\n"
     ]
    }
   ],
   "source": [
    "# 3. Write a program that converts a temperature in Celsius → Fahrenheit.\n",
    "\n",
    "celsius = float(input(\"Enter a degree in celsius:\"))\n",
    "fahrenheit = (celsius * 9/5) + 32  #formula\n",
    "print(f\"{celsius}°C is equal to {fahrenheit:.2f}°F\")  \n",
    "# :.2f is a format specifier inside an f-string.\n",
    "# 🔍 Explanation\n",
    "# : → tells Python we’re applying formatting rules\n",
    "# .2 → means 2 decimal places\n",
    "# f → means floating-point number\n"
   ]
  },
  {
   "cell_type": "code",
   "execution_count": null,
   "id": "eb283dd3-44d7-4ac7-b55b-a67fb5e9990b",
   "metadata": {},
   "outputs": [],
   "source": []
  }
 ],
 "metadata": {
  "kernelspec": {
   "display_name": "Python [conda env:base] *",
   "language": "python",
   "name": "conda-base-py"
  },
  "language_info": {
   "codemirror_mode": {
    "name": "ipython",
    "version": 3
   },
   "file_extension": ".py",
   "mimetype": "text/x-python",
   "name": "python",
   "nbconvert_exporter": "python",
   "pygments_lexer": "ipython3",
   "version": "3.12.7"
  }
 },
 "nbformat": 4,
 "nbformat_minor": 5
}
