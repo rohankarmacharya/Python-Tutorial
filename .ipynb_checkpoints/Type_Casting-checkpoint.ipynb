{
 "cells": [
  {
   "cell_type": "code",
   "execution_count": 2,
   "id": "2ee4f5e0-b376-4967-bf35-cc26276d6dc9",
   "metadata": {},
   "outputs": [
    {
     "name": "stdout",
     "output_type": "stream",
     "text": [
      "12.5\n",
      "12.5\n"
     ]
    }
   ],
   "source": [
    "x = \"10\"\n",
    "y = int(x)  #convert string to int\n",
    "z = float(x)  #convert string to float\n",
    "\n",
    "print(y+5)\n",
    "print(z+2.5)"
   ]
  },
  {
   "cell_type": "code",
   "execution_count": null,
   "id": "187ca0c4-c6db-444c-9a50-07fd84a603f9",
   "metadata": {},
   "outputs": [],
   "source": []
  }
 ],
 "metadata": {
  "kernelspec": {
   "display_name": "Python [conda env:base] *",
   "language": "python",
   "name": "conda-base-py"
  },
  "language_info": {
   "codemirror_mode": {
    "name": "ipython",
    "version": 3
   },
   "file_extension": ".py",
   "mimetype": "text/x-python",
   "name": "python",
   "nbconvert_exporter": "python",
   "pygments_lexer": "ipython3",
   "version": "3.12.7"
  }
 },
 "nbformat": 4,
 "nbformat_minor": 5
}
