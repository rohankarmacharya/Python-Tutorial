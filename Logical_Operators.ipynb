{
 "cells": [
  {
   "cell_type": "code",
   "execution_count": 2,
   "id": "822fa204-efed-4324-a67c-6926c9c037e3",
   "metadata": {},
   "outputs": [
    {
     "name": "stdout",
     "output_type": "stream",
     "text": [
      "You can enter\n"
     ]
    }
   ],
   "source": [
    "# and → both must be true\n",
    "# or → at least one true\n",
    "#not → flips True/False\n",
    "\n",
    "\n",
    "age = 19\n",
    "has_id = True\n",
    "\n",
    "if age>=18 and has_id:\n",
    "    print(\"You can enter\")\n",
    "else:\n",
    "    print(\"You can't. Access denied\")\n"
   ]
  },
  {
   "cell_type": "code",
   "execution_count": 4,
   "id": "13dfbae5-4c9b-4ae1-9b0d-c2e8fcb2b65c",
   "metadata": {},
   "outputs": [
    {
     "name": "stdout",
     "output_type": "stream",
     "text": [
      "You can enter\n"
     ]
    }
   ],
   "source": [
    "age = 19\n",
    "has_id = False\n",
    "\n",
    "if age>=18 or has_id:\n",
    "    print(\"You can enter\")\n",
    "else:\n",
    "    print(\"You can't. Access denied\")\n"
   ]
  },
  {
   "cell_type": "code",
   "execution_count": 6,
   "id": "384bfbdc-6fad-46e2-b0c6-46fc8abf0ed5",
   "metadata": {},
   "outputs": [
    {
     "name": "stdout",
     "output_type": "stream",
     "text": [
      "You must login first!\n"
     ]
    }
   ],
   "source": [
    "is_logged_in = False\n",
    "\n",
    "if not is_logged_in:\n",
    "    print(\"You must login first!\")\n",
    "else:\n",
    "    print(\"You are welcome!\")"
   ]
  },
  {
   "cell_type": "code",
   "execution_count": 8,
   "id": "d2e8b7df-89f5-4841-bf29-054b404313f6",
   "metadata": {},
   "outputs": [
    {
     "name": "stdout",
     "output_type": "stream",
     "text": [
      "Login successful but you are not subscribed.\n",
      "Valid login input\n"
     ]
    }
   ],
   "source": [
    "# and, or and not altogether\n",
    "username = \"rohan\"\n",
    "password = \"makechesterf*ckingproud\"\n",
    "is_subscribed = False\n",
    "\n",
    "if username == \"rohan\" and password == \"makechesterf*ckingproud\":\n",
    "    if not is_subscribed:\n",
    "        print(\"Login successful but you are not subscribed.\")\n",
    "    else:\n",
    "        print(\"Login successful and you are subscribed.\")\n",
    "else:\n",
    "    print(\"Invalid username or password!\")\n",
    "\n",
    "login_input = \"rohankarmacharya9@gmail.com\"\n",
    "if login_input ==\"rohan\" or login_input==\"rohankarmacharya9@gmail.com\":\n",
    "    print(\"Valid login input\")\n",
    "\n"
   ]
  },
  {
   "cell_type": "code",
   "execution_count": 13,
   "id": "d81de242-1a27-4f78-9963-c928f3dfdcc3",
   "metadata": {},
   "outputs": [
    {
     "name": "stdin",
     "output_type": "stream",
     "text": [
      "Enter your age: 23\n",
      "Do you have a driving license? (yes/no): yes\n"
     ]
    },
    {
     "name": "stdout",
     "output_type": "stream",
     "text": [
      "You are allowed to drive.\n"
     ]
    }
   ],
   "source": [
    "# Nested if\n",
    "age = int(input(\"Enter your age:\"))\n",
    "\n",
    "if age>=18:\n",
    "    has_license = input(\"Do you have a driving license? (yes/no):\").lower()\n",
    "    if has_license ==\"yes\":\n",
    "        print(\"You are allowed to drive.\")\n",
    "    else:\n",
    "        print(\"You need a license to drive.\")\n",
    "else:\n",
    "    print(\"You are too youung to drive, sorry.\")\n",
    "\n"
   ]
  },
  {
   "cell_type": "code",
   "execution_count": null,
   "id": "d745f0bf-6084-44af-b51c-294a2fa9a18f",
   "metadata": {},
   "outputs": [],
   "source": []
  }
 ],
 "metadata": {
  "kernelspec": {
   "display_name": "Python [conda env:base] *",
   "language": "python",
   "name": "conda-base-py"
  },
  "language_info": {
   "codemirror_mode": {
    "name": "ipython",
    "version": 3
   },
   "file_extension": ".py",
   "mimetype": "text/x-python",
   "name": "python",
   "nbconvert_exporter": "python",
   "pygments_lexer": "ipython3",
   "version": "3.12.7"
  }
 },
 "nbformat": 4,
 "nbformat_minor": 5
}
