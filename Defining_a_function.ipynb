{
 "cells": [
  {
   "cell_type": "code",
   "execution_count": 2,
   "id": "8bdf23b9-8a19-4f0f-affe-13a894940372",
   "metadata": {},
   "outputs": [
    {
     "name": "stdout",
     "output_type": "stream",
     "text": [
      "Hello, welcome to python!\n"
     ]
    }
   ],
   "source": [
    "'''\n",
    "def → keyword to define a function\n",
    "greet → name of the function\n",
    "() → parentheses (for parameters, if any)\n",
    ": → start of the function block\n",
    "Indentation → body of the function\n",
    "'''\n",
    "def greet():\n",
    "    print(\"Hello, welcome to python!\")\n",
    "# Call the function:\n",
    "greet()"
   ]
  },
  {
   "cell_type": "code",
   "execution_count": null,
   "id": "5a424497-594c-45c1-9345-d6f665c3ab59",
   "metadata": {},
   "outputs": [],
   "source": []
  }
 ],
 "metadata": {
  "kernelspec": {
   "display_name": "Python [conda env:base] *",
   "language": "python",
   "name": "conda-base-py"
  },
  "language_info": {
   "codemirror_mode": {
    "name": "ipython",
    "version": 3
   },
   "file_extension": ".py",
   "mimetype": "text/x-python",
   "name": "python",
   "nbconvert_exporter": "python",
   "pygments_lexer": "ipython3",
   "version": "3.12.7"
  }
 },
 "nbformat": 4,
 "nbformat_minor": 5
}
