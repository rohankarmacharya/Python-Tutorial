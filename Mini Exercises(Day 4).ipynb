{
 "cells": [
  {
   "cell_type": "code",
   "execution_count": 2,
   "id": "53acdd2b-1c07-4c64-aa37-a0eb06609fa6",
   "metadata": {},
   "outputs": [
    {
     "name": "stdout",
     "output_type": "stream",
     "text": [
      "Hello Rohan, welcome!\n"
     ]
    },
    {
     "name": "stdin",
     "output_type": "stream",
     "text": [
      "Enter your name: Rohan\n"
     ]
    },
    {
     "name": "stdout",
     "output_type": "stream",
     "text": [
      "Hello Rohan, welcome!\n"
     ]
    }
   ],
   "source": [
    "'''\n",
    "Exercise 1: Greeting Function\n",
    "\n",
    "Write a function greet_user that asks for a user’s name and prints:\n",
    "Hello {name}, welcome!\n",
    "'''\n",
    "\n",
    "def greet_user(name):\n",
    "    print(f\"Hello {name}, welcome!\")\n",
    "greet_user(\"Rohan\")\n",
    "\n",
    "'''tweak\n",
    "Ask name from user input'''\n",
    "def greet_user():\n",
    "    name=input(\"Enter your name:\")\n",
    "    print(f\"Hello {name}, welcome!\")\n",
    "greet_user()"
   ]
  },
  {
   "cell_type": "code",
   "execution_count": 4,
   "id": "27efc48b-8b6a-4718-8246-de2e7fcdfea2",
   "metadata": {},
   "outputs": [
    {
     "name": "stdout",
     "output_type": "stream",
     "text": [
      "The sum is: 12\n"
     ]
    }
   ],
   "source": [
    "'''\n",
    "Exercise 2: Sum of Two Numbers\n",
    "\n",
    "Write a function add_numbers(a, b) that prints:\n",
    "\n",
    "The sum is: {sum}\n",
    "'''\n",
    "def add_numbers(a,b):\n",
    "    print(f\"The sum is: {a+b}\")\n",
    "add_numbers(3,9)"
   ]
  },
  {
   "cell_type": "code",
   "execution_count": 9,
   "id": "6030e3e2-5705-4e88-b1e4-f18268fcddaa",
   "metadata": {},
   "outputs": [
    {
     "name": "stdout",
     "output_type": "stream",
     "text": [
      "4\n"
     ]
    }
   ],
   "source": [
    "'''\n",
    "Exercise 3: Square Function\n",
    "\n",
    "Write a function square(x) that returns the square of a number.\n",
    "Test it by printing:\n",
    "\n",
    "print(square(5))\n",
    "'''\n",
    "def square(x):\n",
    "    return x*x\n",
    "print(square(2))"
   ]
  },
  {
   "cell_type": "code",
   "execution_count": 10,
   "id": "4bb7af12-9913-45f6-a5f8-17aca48249fd",
   "metadata": {},
   "outputs": [
    {
     "name": "stdout",
     "output_type": "stream",
     "text": [
      "Hello Guest\n",
      "Hello Rohan\n"
     ]
    }
   ],
   "source": [
    "'''\n",
    "Exercise 4: Default Parameter\n",
    "\n",
    "Write a function greet_user(name=\"Guest\") that prints a greeting.\n",
    "Test both:\n",
    "\n",
    "greet_user()\n",
    "greet_user(\"your_name\")\n",
    "'''\n",
    "def greet_user(name=\"Guest\"):\n",
    "    print(\"Hello\", name)\n",
    "greet_user()\n",
    "greet_user(\"Rohan\")"
   ]
  },
  {
   "cell_type": "code",
   "execution_count": 17,
   "id": "6d9b7a13-01b1-4fe3-8d03-6684440e018c",
   "metadata": {},
   "outputs": [
    {
     "name": "stdout",
     "output_type": "stream",
     "text": [
      "Hi! Its Rohan Karmacharya, a graduate in Computer Science & Information Technology.\n"
     ]
    },
    {
     "name": "stdin",
     "output_type": "stream",
     "text": [
      "Enter your name: Rohan\n",
      "Enter your degree: CSIT\n"
     ]
    },
    {
     "name": "stdout",
     "output_type": "stream",
     "text": [
      "Hi! Its Rohan, a graduate in CSIT.\n"
     ]
    }
   ],
   "source": [
    "'''\n",
    "Exercise 5: Keyword Arguments\n",
    "\n",
    "Write a function introduce(name, degree) that prints:\n",
    "\n",
    "Hi! Its {name}, a graduate in {degree}.\n",
    "'''\n",
    "def introduce(name,degree):\n",
    "    print(f\"Hi! Its {name}, a graduate in {degree}.\")\n",
    "introduce(name=\"Rohan Karmacharya\", degree=\"Computer Science & Information Technology\")\n",
    "\n",
    "'''tweak\n",
    "Ask name and degree from user'''\n",
    "\n",
    "def introduce(name,degree):\n",
    "    name=input(\"Enter your name:\")\n",
    "    degree=input(\"Enter your degree:\")\n",
    "    print(f\"Hi! Its {name}, a graduate in {degree}.\")\n",
    "introduce(\"name\", \"degree\")"
   ]
  },
  {
   "cell_type": "code",
   "execution_count": 23,
   "id": "12c1469a-45a0-42c2-aa4f-7f2c408e1bd8",
   "metadata": {},
   "outputs": [
    {
     "name": "stdout",
     "output_type": "stream",
     "text": [
      "120\n"
     ]
    }
   ],
   "source": [
    "'''\n",
    "Exercise 6: Factorial\n",
    "\n",
    "Write a function factorial(n) that returns the factorial of a number using a loop.\n",
    "Example: factorial(5) → 120\n",
    "'''\n",
    "def factorial(n):\n",
    "    result = 1\n",
    "    for i in range(1, n+1):  # loop from 1 to n\n",
    "        result *= i\n",
    "    return result\n",
    "\n",
    "print(factorial(5))"
   ]
  },
  {
   "cell_type": "code",
   "execution_count": 32,
   "id": "ea3b3b37-d92c-4866-beff-fe350be8fd37",
   "metadata": {},
   "outputs": [
    {
     "name": "stdout",
     "output_type": "stream",
     "text": [
      "120\n"
     ]
    },
    {
     "name": "stdin",
     "output_type": "stream",
     "text": [
      "Enter a number to find its factorial:  5\n"
     ]
    },
    {
     "name": "stdout",
     "output_type": "stream",
     "text": [
      "Factorial of 5 is: 120\n"
     ]
    },
    {
     "name": "stdin",
     "output_type": "stream",
     "text": [
      "Enter a non-negative integer to find its factorial: Hello\n"
     ]
    },
    {
     "name": "stdout",
     "output_type": "stream",
     "text": [
      "Invalid input! Please enter a valid integer.\n"
     ]
    },
    {
     "name": "stdin",
     "output_type": "stream",
     "text": [
      "Enter a non-negative integer to find its factorial: 5\n"
     ]
    },
    {
     "name": "stdout",
     "output_type": "stream",
     "text": [
      "Factorial of 5 is: 120\n"
     ]
    }
   ],
   "source": [
    "'''\n",
    "Exercise 7: Factorial\n",
    "\n",
    "Write a function factorial(n) that returns the factorial of a number using a recursion.\n",
    "Example: factorial(5) → 120\n",
    "'''\n",
    "def factorial_recursive(n):\n",
    "    if n==0 or n==1:\n",
    "        return 1\n",
    "    else:\n",
    "        return n * factorial_recursive(n-1)\n",
    "\n",
    "print(factorial_recursive(5))\n",
    "\n",
    "\n",
    "'''\n",
    "tweak 1:\n",
    "Ask user for input\n",
    "'''\n",
    "def factorial_recursive(n):\n",
    "    if n == 0 or n == 1:\n",
    "        return 1\n",
    "    else:\n",
    "        return n * factorial_recursive(n - 1)\n",
    "\n",
    "num = int(input(\"Enter a number to find its factorial: \"))\n",
    "print(f\"Factorial of {num} is: {factorial_recursive(num)}\")\n",
    "\n",
    "\n",
    "'''\n",
    "tweak 2: add input validation so it doesn’t crash if the user enters a negative number or a non-integer\n",
    "'''\n",
    "def factorial_recursive(n):\n",
    "    if n==0 or n==1:\n",
    "        return 1\n",
    "    else:\n",
    "        return n * factorial_recursive(n-1)\n",
    "\n",
    "while True:\n",
    "    try:\n",
    "        num = int(input(\"Enter a non-negative integer to find its factorial:\"))\n",
    "        if(num<0):\n",
    "            print(\"Please enter a non-negative number.\")\n",
    "            continue\n",
    "        break\n",
    "    except ValueError: # Must be capital V\n",
    "        print(\"Invalid input! Please enter a valid integer.\")\n",
    "\n",
    "print(f\"Factorial of {num} is: {factorial_recursive(num)}\")\n",
    "        "
   ]
  },
  {
   "cell_type": "code",
   "execution_count": 33,
   "id": "57ed4996-e440-49ef-8267-cf23d4050fbe",
   "metadata": {},
   "outputs": [
    {
     "name": "stdin",
     "output_type": "stream",
     "text": [
      "Enter a positive integer to check if it is prime:  -1\n"
     ]
    },
    {
     "name": "stdout",
     "output_type": "stream",
     "text": [
      "Enter a number greater than 0.\n"
     ]
    },
    {
     "name": "stdin",
     "output_type": "stream",
     "text": [
      "Enter a positive integer to check if it is prime:  Hello\n"
     ]
    },
    {
     "name": "stdout",
     "output_type": "stream",
     "text": [
      "Invalid input! Enter an integer.\n"
     ]
    },
    {
     "name": "stdin",
     "output_type": "stream",
     "text": [
      "Enter a positive integer to check if it is prime:  2\n"
     ]
    },
    {
     "name": "stdout",
     "output_type": "stream",
     "text": [
      "2 is a prime number.\n"
     ]
    }
   ],
   "source": [
    "'''\n",
    "Exercise 8: Check Prime (with user_input and validation)\n",
    "\n",
    "Write a function is_prime(n) that checks if a number is prime.\n",
    "Return True if prime, otherwise False.\n",
    "'''\n",
    "\n",
    "def is_prime(n):\n",
    "    # Check if number is <= 1 → not prime\n",
    "    if n <= 1:\n",
    "        return False\n",
    "    \n",
    "    # Check divisibility from 2 to sqrt(n)\n",
    "    for i in range(2, int(n**0.5) + 1):\n",
    "        if n % i == 0:  # If divisible → not prime\n",
    "            return False\n",
    "    \n",
    "    # If no divisor found → prime\n",
    "    return True\n",
    "\n",
    "# Ask user for input in a loop to handle invalid entries\n",
    "while True:\n",
    "    try:\n",
    "        num = int(input(\"Enter a positive integer to check if it is prime: \"))  # Take input\n",
    "        if num < 1:  # Validate positive integer\n",
    "            print(\"Enter a number greater than 0.\")\n",
    "            continue  # Ask again\n",
    "        break  # Input is valid, exit loop\n",
    "    except ValueError:  # Handle non-integer input\n",
    "        print(\"Invalid input! Enter an integer.\")\n",
    "\n",
    "# Check if the number is prime and print result\n",
    "if is_prime(num):\n",
    "    print(f\"{num} is a prime number.\")\n",
    "else:\n",
    "    print(f\"{num} is not a prime number.\")\n"
   ]
  },
  {
   "cell_type": "code",
   "execution_count": 34,
   "id": "e9e36c03-2af7-4d1c-a64c-dfe931cf9a6e",
   "metadata": {},
   "outputs": [
    {
     "name": "stdin",
     "output_type": "stream",
     "text": [
      "Enter temperature in Celsius:  32\n"
     ]
    },
    {
     "name": "stdout",
     "output_type": "stream",
     "text": [
      "32.0°C is equal to 89.60°F\n"
     ]
    }
   ],
   "source": [
    "'''\n",
    "Exercise 9: Temperature Converter  (with user_input and validation)\n",
    "Write a function c_to_f(celsius) that converts Celsius to Fahrenheit. \n",
    "Formula: (celsius * 9/5) + 32 \n",
    "Return the Fahrenheit value.\n",
    "'''\n",
    "def c_to_f(celsius):\n",
    "    # Formula to convert Celsius to Fahrenheit\n",
    "    return (celsius * 9/5) + 32\n",
    "\n",
    "# Ask user for Celsius input\n",
    "while True:\n",
    "    try:\n",
    "        celsius = float(input(\"Enter temperature in Celsius: \"))  # Accept decimal input\n",
    "        break  # Valid input, exit loop\n",
    "    except ValueError:\n",
    "        print(\"Invalid input! Enter a number.\")  # Error message for invalid input\n",
    "\n",
    "# Convert and display temperature\n",
    "fahrenheit = c_to_f(celsius)\n",
    "print(f\"{celsius}°C is equal to {fahrenheit:.2f}°F\")  # :.2f → rounds to 2 decimal places\n"
   ]
  },
  {
   "cell_type": "code",
   "execution_count": null,
   "id": "9b6d5ed8-e00d-4fbe-98a0-832e1c25f39e",
   "metadata": {},
   "outputs": [],
   "source": []
  }
 ],
 "metadata": {
  "kernelspec": {
   "display_name": "Python [conda env:base] *",
   "language": "python",
   "name": "conda-base-py"
  },
  "language_info": {
   "codemirror_mode": {
    "name": "ipython",
    "version": 3
   },
   "file_extension": ".py",
   "mimetype": "text/x-python",
   "name": "python",
   "nbconvert_exporter": "python",
   "pygments_lexer": "ipython3",
   "version": "3.12.7"
  }
 },
 "nbformat": 4,
 "nbformat_minor": 5
}
