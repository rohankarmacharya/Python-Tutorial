{
 "cells": [
  {
   "cell_type": "code",
   "execution_count": 1,
   "id": "7199682b-2081-4631-9d20-3b035ba73814",
   "metadata": {},
   "outputs": [
    {
     "name": "stdout",
     "output_type": "stream",
     "text": [
      "1\n",
      "2\n",
      "3\n",
      "4\n",
      "5\n",
      "6\n",
      "7\n",
      "8\n",
      "9\n",
      "10\n"
     ]
    }
   ],
   "source": [
    "# Exercise 1: Print numbers 1–10 using a for loop.\n",
    "\n",
    "for i in range(1,11):\n",
    "    print(i)"
   ]
  },
  {
   "cell_type": "code",
   "execution_count": 3,
   "id": "bcdc3521-9a6b-4c92-b214-c5d18513169f",
   "metadata": {},
   "outputs": [
    {
     "name": "stdout",
     "output_type": "stream",
     "text": [
      "1\n",
      "2\n",
      "3\n",
      "4\n",
      "5\n",
      "6\n",
      "7\n",
      "8\n",
      "9\n",
      "10\n"
     ]
    }
   ],
   "source": [
    "# Exercise 2: Print numbers 1–10 using a while loop.\n",
    "\n",
    "i = 1\n",
    "while i <= 10:\n",
    "    print(i)\n",
    "    i += 1"
   ]
  },
  {
   "cell_type": "code",
   "execution_count": 4,
   "id": "1d6e4c6b-1a0a-470d-892d-3baf06fa3137",
   "metadata": {},
   "outputs": [
    {
     "name": "stdout",
     "output_type": "stream",
     "text": [
      "2\n",
      "4\n",
      "6\n",
      "8\n",
      "10\n",
      "12\n",
      "14\n",
      "16\n",
      "18\n",
      "20\n"
     ]
    }
   ],
   "source": [
    "# Exercise 3: Print only even numbers from 1–20 using continue.\n",
    "\n",
    "for i in range(1,21):\n",
    "    if i % 2 != 0:\n",
    "        continue\n",
    "    print(i)"
   ]
  },
  {
   "cell_type": "code",
   "execution_count": 9,
   "id": "414d48e6-826e-41d5-97af-115f1ebe6a1a",
   "metadata": {},
   "outputs": [
    {
     "name": "stdin",
     "output_type": "stream",
     "text": [
      "Guess a number: 1\n"
     ]
    },
    {
     "name": "stdout",
     "output_type": "stream",
     "text": [
      "Please try again!\n"
     ]
    },
    {
     "name": "stdin",
     "output_type": "stream",
     "text": [
      "Guess a number: 3\n"
     ]
    },
    {
     "name": "stdout",
     "output_type": "stream",
     "text": [
      "Please try again!\n"
     ]
    },
    {
     "name": "stdin",
     "output_type": "stream",
     "text": [
      "Guess a number: 7\n"
     ]
    },
    {
     "name": "stdout",
     "output_type": "stream",
     "text": [
      "Please try again!\n"
     ]
    },
    {
     "name": "stdin",
     "output_type": "stream",
     "text": [
      "Guess a number: 9\n"
     ]
    },
    {
     "name": "stdout",
     "output_type": "stream",
     "text": [
      "You guessed it! Game Over.\n"
     ]
    }
   ],
   "source": [
    "# Exercise 4: Guessing game: keep asking for a number until the user enters 9.\n",
    "\n",
    "while True:\n",
    "    num = int(input(\"Guess a number:\"))       \n",
    "    if num == 9:\n",
    "        print(\"You guessed it! Game Over.\")\n",
    "        break\n",
    "    else:\n",
    "        print(\"Please try again!\")"
   ]
  },
  {
   "cell_type": "code",
   "execution_count": 1,
   "id": "cab2589e-5246-4c78-a2ea-7ccb9e5533bc",
   "metadata": {},
   "outputs": [
    {
     "name": "stdin",
     "output_type": "stream",
     "text": [
      "Guess a number between 1 and 20: 1\n"
     ]
    },
    {
     "name": "stdout",
     "output_type": "stream",
     "text": [
      "Too low\n"
     ]
    },
    {
     "name": "stdin",
     "output_type": "stream",
     "text": [
      "Guess a number between 1 and 20: 11\n"
     ]
    },
    {
     "name": "stdout",
     "output_type": "stream",
     "text": [
      "Too low\n"
     ]
    },
    {
     "name": "stdin",
     "output_type": "stream",
     "text": [
      "Guess a number between 1 and 20: 15\n"
     ]
    },
    {
     "name": "stdout",
     "output_type": "stream",
     "text": [
      "Too high\n"
     ]
    },
    {
     "name": "stdin",
     "output_type": "stream",
     "text": [
      "Guess a number between 1 and 20: 13\n"
     ]
    },
    {
     "name": "stdout",
     "output_type": "stream",
     "text": [
      "Too low\n"
     ]
    },
    {
     "name": "stdin",
     "output_type": "stream",
     "text": [
      "Guess a number between 1 and 20: 14\n"
     ]
    },
    {
     "name": "stdout",
     "output_type": "stream",
     "text": [
      "Correct! You guessed the number in 5 tries.\n"
     ]
    }
   ],
   "source": [
    "'''\n",
    "Exercise 5: \n",
    "\n",
    "Random Number Guessing Game\n",
    "\n",
    "Task:\n",
    "The computer picks a random number between 1 and 20.\n",
    "\n",
    "The user keeps guessing until they find the correct number.\n",
    "\n",
    "After each wrong guess, give a hint: \"Too high!\" or \"Too low!\".\n",
    "\n",
    "When correct → \"Correct! You guessed the number in X tries.\"\n",
    "'''\n",
    "\n",
    "import random  # Import the random module to generate random numbers\n",
    "\n",
    "secret_number = random.randint(1,20)  # Generate a random integer between 1 and 20 (inclusive)\n",
    "tries = 0  # Initialize a counter to keep track of how many guesses the user makes\n",
    "\n",
    "while True:  # Start an infinite loop; it will keep asking the user until they guess correctly\n",
    "    guess = int(input(\"Guess a number between 1 and 20:\"))\n",
    "    tries += 1      # Increase the guess counter by 1 for each attempt\n",
    "    if guess < secret_number:\n",
    "        print(\"Too low\")\n",
    "    elif guess > secret_number:\n",
    "        print(\"Too high\")\n",
    "    else:\n",
    "        print(f\"Correct! You guessed the number in {tries} tries.\")\n",
    "        break  # Exit the loop since the correct number was guessed"
   ]
  },
  {
   "cell_type": "code",
   "execution_count": null,
   "id": "d29f5c36-677a-4366-8925-661d37ed69b3",
   "metadata": {},
   "outputs": [],
   "source": []
  }
 ],
 "metadata": {
  "kernelspec": {
   "display_name": "Python [conda env:base] *",
   "language": "python",
   "name": "conda-base-py"
  },
  "language_info": {
   "codemirror_mode": {
    "name": "ipython",
    "version": 3
   },
   "file_extension": ".py",
   "mimetype": "text/x-python",
   "name": "python",
   "nbconvert_exporter": "python",
   "pygments_lexer": "ipython3",
   "version": "3.12.7"
  }
 },
 "nbformat": 4,
 "nbformat_minor": 5
}
