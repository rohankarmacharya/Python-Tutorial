{
 "cells": [
  {
   "cell_type": "code",
   "execution_count": 12,
   "id": "d213c446-f31d-4e31-a71f-356bf42f1a51",
   "metadata": {},
   "outputs": [
    {
     "name": "stdout",
     "output_type": "stream",
     "text": [
      "1\n",
      "2\n",
      "3\n",
      "4\n",
      "1\n",
      "3\n",
      "5\n",
      "7\n",
      "9\n"
     ]
    }
   ],
   "source": [
    "\"\"\"\n",
    "break → stop the loop completely.\n",
    "\n",
    "continue → skip current iteration & move to next.\n",
    "\"\"\"\n",
    "\n",
    "# Example : break\n",
    "for i in range(1,10):\n",
    "    if i==5:\n",
    "        break\n",
    "    print(i)\n",
    "\n",
    "# Example: continue\n",
    "for i in range (1,10):  # 1 → 9\n",
    "    if i % 2 == 0:   # skip even numbers\n",
    "        continue\n",
    "    print(i)  # print only odd numbers"
   ]
  },
  {
   "cell_type": "code",
   "execution_count": null,
   "id": "a9aefba8-ea80-4b75-8b48-7d94554270e5",
   "metadata": {},
   "outputs": [],
   "source": []
  }
 ],
 "metadata": {
  "kernelspec": {
   "display_name": "Python [conda env:base] *",
   "language": "python",
   "name": "conda-base-py"
  },
  "language_info": {
   "codemirror_mode": {
    "name": "ipython",
    "version": 3
   },
   "file_extension": ".py",
   "mimetype": "text/x-python",
   "name": "python",
   "nbconvert_exporter": "python",
   "pygments_lexer": "ipython3",
   "version": "3.12.7"
  }
 },
 "nbformat": 4,
 "nbformat_minor": 5
}
