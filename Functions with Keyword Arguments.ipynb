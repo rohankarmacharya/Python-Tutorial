{
 "cells": [
  {
   "cell_type": "code",
   "execution_count": 2,
   "id": "5d34442d-07c6-4dea-89d3-e1d018448e7c",
   "metadata": {},
   "outputs": [
    {
     "name": "stdout",
     "output_type": "stream",
     "text": [
      "Hi! This is Rohan, a graduate in Computer Science & Information Technology.\n"
     ]
    }
   ],
   "source": [
    "# We can pass arguments in any order using keywords.\n",
    "def introduce(name, degree):\n",
    "    print(f\"Hi! This is {name}, a graduate in {degree}\")\n",
    "introduce(name=\"Rohan\", degree=\"Computer Science & Information Technology.\")"
   ]
  },
  {
   "cell_type": "code",
   "execution_count": null,
   "id": "8156c732-7a00-4626-bbd8-717411aa35d1",
   "metadata": {},
   "outputs": [],
   "source": []
  }
 ],
 "metadata": {
  "kernelspec": {
   "display_name": "Python [conda env:base] *",
   "language": "python",
   "name": "conda-base-py"
  },
  "language_info": {
   "codemirror_mode": {
    "name": "ipython",
    "version": 3
   },
   "file_extension": ".py",
   "mimetype": "text/x-python",
   "name": "python",
   "nbconvert_exporter": "python",
   "pygments_lexer": "ipython3",
   "version": "3.12.7"
  }
 },
 "nbformat": 4,
 "nbformat_minor": 5
}
