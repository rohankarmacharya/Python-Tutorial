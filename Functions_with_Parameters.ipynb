{
 "cells": [
  {
   "cell_type": "code",
   "execution_count": 5,
   "id": "e1beb3e6-49da-4476-b19e-197907234e94",
   "metadata": {},
   "outputs": [
    {
     "name": "stdout",
     "output_type": "stream",
     "text": [
      "Hello Rohan\n"
     ]
    }
   ],
   "source": [
    "'''\n",
    "1. Function with Parameters:\n",
    "Functions can take input values (parameters).\n",
    "'''\n",
    "def greet_user(name):\n",
    "    print(\"Hello\", name)\n",
    "greet_user(\"Rohan\")"
   ]
  },
  {
   "cell_type": "code",
   "execution_count": 6,
   "id": "4fb240ce-3536-490f-98bd-50603af591fb",
   "metadata": {},
   "outputs": [
    {
     "name": "stdout",
     "output_type": "stream",
     "text": [
      "Sum is: 12\n"
     ]
    }
   ],
   "source": [
    "# 2. Function with Multiple Parameters\n",
    "\n",
    "\n",
    "def add_numbers(a,b):\n",
    "    print(\"Sum is:\", a+b) # we can also write it like this using f-string: print(f\"The sum is: {a+b} \") -> cleaner and more modern\n",
    "add_numbers(3,9)"
   ]
  },
  {
   "cell_type": "code",
   "execution_count": 8,
   "id": "8db3a591-913e-4873-8e6a-f12589e6d55a",
   "metadata": {},
   "outputs": [
    {
     "name": "stdout",
     "output_type": "stream",
     "text": [
      "Hello guest\n",
      "Hello Rohan\n"
     ]
    }
   ],
   "source": [
    "'''\n",
    "3. Default Parameters\n",
    "\n",
    "If no value is provided, the default value is used.\n",
    "'''\n",
    "\n",
    "def greet_user(name=\"guest\"):\n",
    "    print(\"Hello\", name)\n",
    "greet_user()\n",
    "greet_user(\"Rohan\")"
   ]
  },
  {
   "cell_type": "code",
   "execution_count": null,
   "id": "3e22c1a0-6660-4183-8cac-e407337ebd3f",
   "metadata": {},
   "outputs": [],
   "source": []
  }
 ],
 "metadata": {
  "kernelspec": {
   "display_name": "Python [conda env:base] *",
   "language": "python",
   "name": "conda-base-py"
  },
  "language_info": {
   "codemirror_mode": {
    "name": "ipython",
    "version": 3
   },
   "file_extension": ".py",
   "mimetype": "text/x-python",
   "name": "python",
   "nbconvert_exporter": "python",
   "pygments_lexer": "ipython3",
   "version": "3.12.7"
  }
 },
 "nbformat": 4,
 "nbformat_minor": 5
}
