{
 "cells": [
  {
   "cell_type": "code",
   "execution_count": null,
   "id": "f112ef78-9dd0-4ae1-aab8-90ef905dd07d",
   "metadata": {},
   "outputs": [],
   "source": [
    "name = input(\"Enter your name:\")\n",
    "age = int(input(\"Enter your age:\"))\n",
    "\n",
    "print(\"Hello\", name, \"You are\", age, \"years old\")\n",
    "print(f\"Hello {name}, You are {age} years old\") #f-string (formatted string) better huncha yo"
   ]
  }
 ],
 "metadata": {
  "kernelspec": {
   "display_name": "Python [conda env:base] *",
   "language": "python",
   "name": "conda-base-py"
  },
  "language_info": {
   "codemirror_mode": {
    "name": "ipython",
    "version": 3
   },
   "file_extension": ".py",
   "mimetype": "text/x-python",
   "name": "python",
   "nbconvert_exporter": "python",
   "pygments_lexer": "ipython3",
   "version": "3.12.7"
  }
 },
 "nbformat": 4,
 "nbformat_minor": 5
}
