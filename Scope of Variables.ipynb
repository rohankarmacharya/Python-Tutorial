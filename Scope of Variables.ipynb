{
 "cells": [
  {
   "cell_type": "code",
   "execution_count": 2,
   "id": "d6d84011-ad80-4ff2-93e7-58fc6c5e6f42",
   "metadata": {},
   "outputs": [
    {
     "name": "stdout",
     "output_type": "stream",
     "text": [
      "Inside function: 10 5\n",
      "10\n"
     ]
    }
   ],
   "source": [
    "'''\n",
    "Local variable → defined inside function (only works there).\n",
    "Global variable → defined outside (accessible everywhere).\n",
    "'''\n",
    "\n",
    "x=10  # Global variable\n",
    "\n",
    "def my_func():\n",
    "    y=5  # local variable\n",
    "    print(\"Inside function:\",x,y)\n",
    "my_func()\n",
    "print(x)\n",
    "# print(y) -> Generates ERROR as y is local, can't use outside the function\n",
    "    "
   ]
  },
  {
   "cell_type": "code",
   "execution_count": null,
   "id": "3c0a42d9-10f4-40ed-9144-0066de907d55",
   "metadata": {},
   "outputs": [],
   "source": []
  }
 ],
 "metadata": {
  "kernelspec": {
   "display_name": "Python [conda env:base] *",
   "language": "python",
   "name": "conda-base-py"
  },
  "language_info": {
   "codemirror_mode": {
    "name": "ipython",
    "version": 3
   },
   "file_extension": ".py",
   "mimetype": "text/x-python",
   "name": "python",
   "nbconvert_exporter": "python",
   "pygments_lexer": "ipython3",
   "version": "3.12.7"
  }
 },
 "nbformat": 4,
 "nbformat_minor": 5
}
